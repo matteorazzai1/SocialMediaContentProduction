{
 "cells": [
  {
   "metadata": {},
   "cell_type": "code",
   "outputs": [],
   "execution_count": null,
   "source": [
    "from PIL import Image\n",
    "import requests\n",
    "from io import BytesIO\n",
    " \n",
    "endpoint = \"https://api.ttapi.io/midjourney/v1/imagine\"\n",
    " \n",
    "headers = {\n",
    "\"TT-API-KEY\": \"7b0f5d41-31be-c35a-5330-86ee23430070\"\n",
    "}\n",
    " \n",
    "data = {\n",
    "    \"prompt\": \"New vegan ice cream flavor\",\n",
    "    \"model\": \"fast\",\n",
    "    \"hookUrl\": \"\",\n",
    "    \"getUImages\":\"true\"\n",
    "}\n",
    " \n",
    "response = requests.post(endpoint, headers=headers, json=data)\n",
    "\n",
    "jobId=response.json()['data']['jobId']\n",
    "\n",
    "endpoint = \"https://api.ttapi.io/midjourney/v1/fetch\"\n",
    "\n",
    "data = {\n",
    "    \"jobId\": jobId,\n",
    "}\n",
    "\n",
    "response = requests.post(endpoint, headers=headers, json=data)\n",
    "url=response.json()['data']['images'][0]['url']\n",
    "\n",
    "response = requests.get(url)\n",
    "img = Image.open(BytesIO(response.content))\n",
    "\n",
    "img.show()"
   ],
   "id": "ee68a169e5aa35f1"
  }
 ],
 "metadata": {
  "kernelspec": {
   "display_name": "Python 3",
   "language": "python",
   "name": "python3"
  },
  "language_info": {
   "codemirror_mode": {
    "name": "ipython",
    "version": 2
   },
   "file_extension": ".py",
   "mimetype": "text/x-python",
   "name": "python",
   "nbconvert_exporter": "python",
   "pygments_lexer": "ipython2",
   "version": "2.7.6"
  }
 },
 "nbformat": 4,
 "nbformat_minor": 5
}
