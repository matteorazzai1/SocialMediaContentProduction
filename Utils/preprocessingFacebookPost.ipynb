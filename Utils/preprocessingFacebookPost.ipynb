{
 "cells": [
  {
   "cell_type": "code",
   "id": "initial_id",
   "metadata": {
    "collapsed": true,
    "ExecuteTime": {
     "end_time": "2024-08-29T14:54:12.765865Z",
     "start_time": "2024-08-29T14:54:10.228011Z"
    }
   },
   "source": [
    "# preprocessing of facebook data\n",
    "\n",
    "#Put together all the posts\n",
    "\n",
    "import os\n",
    "import pandas as pd\n",
    "\n",
    "# Set the directory containing the CSV files\n",
    "data_folder = '../dataset/data/'\n",
    "\n",
    "# Initialize an empty list to hold the status_message values\n",
    "status_messages = []\n",
    "\n",
    "# Loop through each file in the directory\n",
    "for file_name in os.listdir(data_folder):\n",
    "    # Check if the file is a CSV\n",
    "    if file_name.endswith('.csv'):\n",
    "        # Construct the full file path\n",
    "        file_path = os.path.join(data_folder, file_name)\n",
    "        \n",
    "        # Read the CSV file into a DataFrame\n",
    "        df = pd.read_csv(file_path)\n",
    "        \n",
    "        # Check if 'status_message' column exists in the DataFrame\n",
    "        if 'status_message' in df.columns:\n",
    "            # Append the status_message column values to the list\n",
    "            status_messages.extend(df['status_message'].dropna().tolist())\n",
    "\n",
    "# Convert the list to a DataFrame\n",
    "status_messages_df = pd.DataFrame(status_messages, columns=['status_message'])\n",
    "\n",
    "# Save the DataFrame to a new CSV file\n",
    "output_file = '../dataset/output_status_messages.csv'\n",
    "status_messages_df.to_csv(output_file, index=False)\n",
    "\n",
    "print(f'Status messages saved to {output_file}')\n",
    "status_messages_df\n"
   ],
   "execution_count": 2,
   "outputs": []
  },
  {
   "metadata": {},
   "cell_type": "code",
   "execution_count": null,
   "source": "",
   "id": "b673c8f0cd8c4be3",
   "outputs": []
  }
 ],
 "metadata": {
  "kernelspec": {
   "display_name": "Python 3",
   "language": "python",
   "name": "python3"
  },
  "language_info": {
   "codemirror_mode": {
    "name": "ipython",
    "version": 2
   },
   "file_extension": ".py",
   "mimetype": "text/x-python",
   "name": "python",
   "nbconvert_exporter": "python",
   "pygments_lexer": "ipython2",
   "version": "2.7.6"
  }
 },
 "nbformat": 4,
 "nbformat_minor": 5
}
