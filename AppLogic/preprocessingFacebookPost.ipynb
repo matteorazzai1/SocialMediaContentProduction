{
 "cells": [
  {
   "cell_type": "code",
   "id": "initial_id",
   "metadata": {
    "collapsed": true,
    "ExecuteTime": {
     "end_time": "2024-08-29T14:54:12.765865Z",
     "start_time": "2024-08-29T14:54:10.228011Z"
    }
   },
   "source": [
    "# preprocessing of facebook data\n",
    "\n",
    "#Put together all the posts\n",
    "\n",
    "import os\n",
    "import pandas as pd\n",
    "\n",
    "# Set the directory containing the CSV files\n",
    "data_folder = '../dataset/data/'\n",
    "\n",
    "# Initialize an empty list to hold the status_message values\n",
    "status_messages = []\n",
    "\n",
    "# Loop through each file in the directory\n",
    "for file_name in os.listdir(data_folder):\n",
    "    # Check if the file is a CSV\n",
    "    if file_name.endswith('.csv'):\n",
    "        # Construct the full file path\n",
    "        file_path = os.path.join(data_folder, file_name)\n",
    "        \n",
    "        # Read the CSV file into a DataFrame\n",
    "        df = pd.read_csv(file_path)\n",
    "        \n",
    "        # Check if 'status_message' column exists in the DataFrame\n",
    "        if 'status_message' in df.columns:\n",
    "            # Append the status_message column values to the list\n",
    "            status_messages.extend(df['status_message'].dropna().tolist())\n",
    "\n",
    "# Convert the list to a DataFrame\n",
    "status_messages_df = pd.DataFrame(status_messages, columns=['status_message'])\n",
    "\n",
    "# Save the DataFrame to a new CSV file\n",
    "output_file = '../dataset/output_status_messages.csv'\n",
    "status_messages_df.to_csv(output_file, index=False)\n",
    "\n",
    "print(f'Status messages saved to {output_file}')\n",
    "status_messages_df\n"
   ],
   "outputs": [
    {
     "name": "stdout",
     "output_type": "stream",
     "text": [
      "Status messages saved to ../dataset/output_status_messages.csv\n"
     ]
    },
    {
     "data": {
      "text/plain": [
       "                                           status_message\n",
       "0       Congressional Democrats' staging an hour-long ...\n",
       "1       Ex-United Nations General Assembly Chief John ...\n",
       "2       Polls are open across Britain for the Brexit r...\n",
       "3       Requests for abortion pills have increased sig...\n",
       "4       California lawyer who prosecuted the former St...\n",
       "...                                                   ...\n",
       "231851  Thanks for all the birthday love, Friends!!!! ...\n",
       "231852                                      Happy Easter.\n",
       "231853                                                OMG\n",
       "231854  Friends, come follow me at \\nwww.instagram.com...\n",
       "231855                                 Important Fan Art:\n",
       "\n",
       "[231856 rows x 1 columns]"
      ],
      "text/html": [
       "<div>\n",
       "<style scoped>\n",
       "    .dataframe tbody tr th:only-of-type {\n",
       "        vertical-align: middle;\n",
       "    }\n",
       "\n",
       "    .dataframe tbody tr th {\n",
       "        vertical-align: top;\n",
       "    }\n",
       "\n",
       "    .dataframe thead th {\n",
       "        text-align: right;\n",
       "    }\n",
       "</style>\n",
       "<table border=\"1\" class=\"dataframe\">\n",
       "  <thead>\n",
       "    <tr style=\"text-align: right;\">\n",
       "      <th></th>\n",
       "      <th>status_message</th>\n",
       "    </tr>\n",
       "  </thead>\n",
       "  <tbody>\n",
       "    <tr>\n",
       "      <th>0</th>\n",
       "      <td>Congressional Democrats' staging an hour-long ...</td>\n",
       "    </tr>\n",
       "    <tr>\n",
       "      <th>1</th>\n",
       "      <td>Ex-United Nations General Assembly Chief John ...</td>\n",
       "    </tr>\n",
       "    <tr>\n",
       "      <th>2</th>\n",
       "      <td>Polls are open across Britain for the Brexit r...</td>\n",
       "    </tr>\n",
       "    <tr>\n",
       "      <th>3</th>\n",
       "      <td>Requests for abortion pills have increased sig...</td>\n",
       "    </tr>\n",
       "    <tr>\n",
       "      <th>4</th>\n",
       "      <td>California lawyer who prosecuted the former St...</td>\n",
       "    </tr>\n",
       "    <tr>\n",
       "      <th>...</th>\n",
       "      <td>...</td>\n",
       "    </tr>\n",
       "    <tr>\n",
       "      <th>231851</th>\n",
       "      <td>Thanks for all the birthday love, Friends!!!! ...</td>\n",
       "    </tr>\n",
       "    <tr>\n",
       "      <th>231852</th>\n",
       "      <td>Happy Easter.</td>\n",
       "    </tr>\n",
       "    <tr>\n",
       "      <th>231853</th>\n",
       "      <td>OMG</td>\n",
       "    </tr>\n",
       "    <tr>\n",
       "      <th>231854</th>\n",
       "      <td>Friends, come follow me at \\nwww.instagram.com...</td>\n",
       "    </tr>\n",
       "    <tr>\n",
       "      <th>231855</th>\n",
       "      <td>Important Fan Art:</td>\n",
       "    </tr>\n",
       "  </tbody>\n",
       "</table>\n",
       "<p>231856 rows × 1 columns</p>\n",
       "</div>"
      ]
     },
     "execution_count": 2,
     "metadata": {},
     "output_type": "execute_result"
    }
   ],
   "execution_count": 2
  },
  {
   "metadata": {},
   "cell_type": "code",
   "outputs": [],
   "execution_count": null,
   "source": "",
   "id": "b673c8f0cd8c4be3"
  }
 ],
 "metadata": {
  "kernelspec": {
   "display_name": "Python 3",
   "language": "python",
   "name": "python3"
  },
  "language_info": {
   "codemirror_mode": {
    "name": "ipython",
    "version": 2
   },
   "file_extension": ".py",
   "mimetype": "text/x-python",
   "name": "python",
   "nbconvert_exporter": "python",
   "pygments_lexer": "ipython2",
   "version": "2.7.6"
  }
 },
 "nbformat": 4,
 "nbformat_minor": 5
}
